{
 "cells": [
  {
   "cell_type": "code",
   "execution_count": 57,
   "id": "ba649777",
   "metadata": {},
   "outputs": [],
   "source": [
    "import numpy as np\n",
    "import pandas as pd"
   ]
  },
  {
   "cell_type": "code",
   "execution_count": 58,
   "id": "ee606f75",
   "metadata": {},
   "outputs": [],
   "source": [
    "foods = pd.read_csv('FoodIngredients.csv' ,nrows=200)"
   ]
  },
  {
   "cell_type": "code",
   "execution_count": 59,
   "id": "b775cbc8",
   "metadata": {},
   "outputs": [
    {
     "data": {
      "text/html": [
       "<div>\n",
       "<style scoped>\n",
       "    .dataframe tbody tr th:only-of-type {\n",
       "        vertical-align: middle;\n",
       "    }\n",
       "\n",
       "    .dataframe tbody tr th {\n",
       "        vertical-align: top;\n",
       "    }\n",
       "\n",
       "    .dataframe thead th {\n",
       "        text-align: right;\n",
       "    }\n",
       "</style>\n",
       "<table border=\"1\" class=\"dataframe\">\n",
       "  <thead>\n",
       "    <tr style=\"text-align: right;\">\n",
       "      <th></th>\n",
       "      <th>Unnamed: 0</th>\n",
       "      <th>Title</th>\n",
       "      <th>Ingredients</th>\n",
       "      <th>Instructions</th>\n",
       "      <th>Image_Name</th>\n",
       "      <th>Cleaned_Ingredients</th>\n",
       "    </tr>\n",
       "  </thead>\n",
       "  <tbody>\n",
       "    <tr>\n",
       "      <th>0</th>\n",
       "      <td>0</td>\n",
       "      <td>Miso-Butter Roast Chicken With Acorn Squash Pa...</td>\n",
       "      <td>['1 (3½–4-lb.) whole chicken', '2¾ tsp. kosher...</td>\n",
       "      <td>Pat chicken dry with paper towels, season all ...</td>\n",
       "      <td>miso-butter-roast-chicken-acorn-squash-panzanella</td>\n",
       "      <td>['1 (3½–4-lb.) whole chicken', '2¾ tsp. kosher...</td>\n",
       "    </tr>\n",
       "    <tr>\n",
       "      <th>1</th>\n",
       "      <td>1</td>\n",
       "      <td>Crispy Salt and Pepper Potatoes</td>\n",
       "      <td>['2 large egg whites', '1 pound new potatoes (...</td>\n",
       "      <td>Preheat oven to 400°F and line a rimmed baking...</td>\n",
       "      <td>crispy-salt-and-pepper-potatoes-dan-kluger</td>\n",
       "      <td>['2 large egg whites', '1 pound new potatoes (...</td>\n",
       "    </tr>\n",
       "    <tr>\n",
       "      <th>2</th>\n",
       "      <td>2</td>\n",
       "      <td>Thanksgiving Mac and Cheese</td>\n",
       "      <td>['1 cup evaporated milk', '1 cup whole milk', ...</td>\n",
       "      <td>Place a rack in middle of oven; preheat to 400...</td>\n",
       "      <td>thanksgiving-mac-and-cheese-erick-williams</td>\n",
       "      <td>['1 cup evaporated milk', '1 cup whole milk', ...</td>\n",
       "    </tr>\n",
       "    <tr>\n",
       "      <th>3</th>\n",
       "      <td>3</td>\n",
       "      <td>Italian Sausage and Bread Stuffing</td>\n",
       "      <td>['1 (¾- to 1-pound) round Italian loaf, cut in...</td>\n",
       "      <td>Preheat oven to 350°F with rack in middle. Gen...</td>\n",
       "      <td>italian-sausage-and-bread-stuffing-240559</td>\n",
       "      <td>['1 (¾- to 1-pound) round Italian loaf, cut in...</td>\n",
       "    </tr>\n",
       "    <tr>\n",
       "      <th>4</th>\n",
       "      <td>4</td>\n",
       "      <td>Newton's Law</td>\n",
       "      <td>['1 teaspoon dark brown sugar', '1 teaspoon ho...</td>\n",
       "      <td>Stir together brown sugar and hot water in a c...</td>\n",
       "      <td>newtons-law-apple-bourbon-cocktail</td>\n",
       "      <td>['1 teaspoon dark brown sugar', '1 teaspoon ho...</td>\n",
       "    </tr>\n",
       "  </tbody>\n",
       "</table>\n",
       "</div>"
      ],
      "text/plain": [
       "   Unnamed: 0                                              Title  \\\n",
       "0           0  Miso-Butter Roast Chicken With Acorn Squash Pa...   \n",
       "1           1                    Crispy Salt and Pepper Potatoes   \n",
       "2           2                        Thanksgiving Mac and Cheese   \n",
       "3           3                 Italian Sausage and Bread Stuffing   \n",
       "4           4                                       Newton's Law   \n",
       "\n",
       "                                         Ingredients  \\\n",
       "0  ['1 (3½–4-lb.) whole chicken', '2¾ tsp. kosher...   \n",
       "1  ['2 large egg whites', '1 pound new potatoes (...   \n",
       "2  ['1 cup evaporated milk', '1 cup whole milk', ...   \n",
       "3  ['1 (¾- to 1-pound) round Italian loaf, cut in...   \n",
       "4  ['1 teaspoon dark brown sugar', '1 teaspoon ho...   \n",
       "\n",
       "                                        Instructions  \\\n",
       "0  Pat chicken dry with paper towels, season all ...   \n",
       "1  Preheat oven to 400°F and line a rimmed baking...   \n",
       "2  Place a rack in middle of oven; preheat to 400...   \n",
       "3  Preheat oven to 350°F with rack in middle. Gen...   \n",
       "4  Stir together brown sugar and hot water in a c...   \n",
       "\n",
       "                                          Image_Name  \\\n",
       "0  miso-butter-roast-chicken-acorn-squash-panzanella   \n",
       "1         crispy-salt-and-pepper-potatoes-dan-kluger   \n",
       "2         thanksgiving-mac-and-cheese-erick-williams   \n",
       "3          italian-sausage-and-bread-stuffing-240559   \n",
       "4                 newtons-law-apple-bourbon-cocktail   \n",
       "\n",
       "                                 Cleaned_Ingredients  \n",
       "0  ['1 (3½–4-lb.) whole chicken', '2¾ tsp. kosher...  \n",
       "1  ['2 large egg whites', '1 pound new potatoes (...  \n",
       "2  ['1 cup evaporated milk', '1 cup whole milk', ...  \n",
       "3  ['1 (¾- to 1-pound) round Italian loaf, cut in...  \n",
       "4  ['1 teaspoon dark brown sugar', '1 teaspoon ho...  "
      ]
     },
     "execution_count": 59,
     "metadata": {},
     "output_type": "execute_result"
    }
   ],
   "source": [
    "foods.head()"
   ]
  },
  {
   "cell_type": "code",
   "execution_count": 60,
   "id": "9c08e895",
   "metadata": {},
   "outputs": [
    {
     "name": "stdout",
     "output_type": "stream",
     "text": [
      "(200, 6)\n"
     ]
    }
   ],
   "source": [
    "print(foods.shape)"
   ]
  },
  {
   "cell_type": "code",
   "execution_count": 61,
   "id": "5ccf316b",
   "metadata": {},
   "outputs": [
    {
     "data": {
      "text/plain": [
       "Unnamed: 0             0\n",
       "Title                  0\n",
       "Ingredients            0\n",
       "Instructions           0\n",
       "Image_Name             0\n",
       "Cleaned_Ingredients    0\n",
       "dtype: int64"
      ]
     },
     "execution_count": 61,
     "metadata": {},
     "output_type": "execute_result"
    }
   ],
   "source": [
    "foods.isnull().sum()"
   ]
  },
  {
   "cell_type": "code",
   "execution_count": 62,
   "id": "e5d3a9c6",
   "metadata": {},
   "outputs": [
    {
     "data": {
      "text/plain": [
       "0"
      ]
     },
     "execution_count": 62,
     "metadata": {},
     "output_type": "execute_result"
    }
   ],
   "source": [
    "foods.duplicated().sum()"
   ]
  },
  {
   "cell_type": "markdown",
   "id": "8f8cb51d",
   "metadata": {},
   "source": [
    "#Content based Recomendation"
   ]
  },
  {
   "cell_type": "code",
   "execution_count": 63,
   "id": "0dcc71f3",
   "metadata": {},
   "outputs": [
    {
     "data": {
      "text/plain": [
       "0    ['1 (3½–4-lb.) whole chicken', '2¾ tsp. kosher...\n",
       "Name: Ingredients, dtype: object"
      ]
     },
     "execution_count": 63,
     "metadata": {},
     "output_type": "execute_result"
    }
   ],
   "source": [
    "foods.head(1)['Ingredients']"
   ]
  },
  {
   "cell_type": "code",
   "execution_count": 64,
   "id": "0aa3ed14",
   "metadata": {},
   "outputs": [
    {
     "data": {
      "text/plain": [
       "0      828\n",
       "1      251\n",
       "2      289\n",
       "3      558\n",
       "4      218\n",
       "      ... \n",
       "195    455\n",
       "196    208\n",
       "197    102\n",
       "198    224\n",
       "199    195\n",
       "Name: Ingredients, Length: 200, dtype: int64"
      ]
     },
     "execution_count": 64,
     "metadata": {},
     "output_type": "execute_result"
    }
   ],
   "source": [
    "foods['Ingredients'].str.len()"
   ]
  },
  {
   "cell_type": "code",
   "execution_count": 65,
   "id": "fd3e8888",
   "metadata": {},
   "outputs": [
    {
     "name": "stderr",
     "output_type": "stream",
     "text": [
      "[nltk_data] Downloading package stopwords to\n",
      "[nltk_data]     C:\\Users\\USER\\AppData\\Roaming\\nltk_data...\n",
      "[nltk_data]   Package stopwords is already up-to-date!\n"
     ]
    },
    {
     "data": {
      "text/plain": [
       "True"
      ]
     },
     "execution_count": 65,
     "metadata": {},
     "output_type": "execute_result"
    }
   ],
   "source": [
    "import nltk\n",
    "nltk.download('stopwords')"
   ]
  },
  {
   "cell_type": "code",
   "execution_count": 66,
   "id": "4c74deed",
   "metadata": {},
   "outputs": [
    {
     "data": {
      "text/html": [
       "<div>\n",
       "<style scoped>\n",
       "    .dataframe tbody tr th:only-of-type {\n",
       "        vertical-align: middle;\n",
       "    }\n",
       "\n",
       "    .dataframe tbody tr th {\n",
       "        vertical-align: top;\n",
       "    }\n",
       "\n",
       "    .dataframe thead th {\n",
       "        text-align: right;\n",
       "    }\n",
       "</style>\n",
       "<table border=\"1\" class=\"dataframe\">\n",
       "  <thead>\n",
       "    <tr style=\"text-align: right;\">\n",
       "      <th></th>\n",
       "      <th>Unnamed: 0</th>\n",
       "      <th>Title</th>\n",
       "      <th>Ingredients</th>\n",
       "      <th>Instructions</th>\n",
       "      <th>Image_Name</th>\n",
       "      <th>Cleaned_Ingredients</th>\n",
       "    </tr>\n",
       "  </thead>\n",
       "  <tbody>\n",
       "    <tr>\n",
       "      <th>0</th>\n",
       "      <td>0</td>\n",
       "      <td>Miso-Butter Roast Chicken With Acorn Squash Pa...</td>\n",
       "      <td>['1 (3½–4-lb.) whole chicken', '2¾ tsp. kosher...</td>\n",
       "      <td>Pat chicken dry with paper towels, season all ...</td>\n",
       "      <td>miso-butter-roast-chicken-acorn-squash-panzanella</td>\n",
       "      <td>['1 (3½–4-lb.) whole chicken', '2¾ tsp. kosher...</td>\n",
       "    </tr>\n",
       "    <tr>\n",
       "      <th>1</th>\n",
       "      <td>1</td>\n",
       "      <td>Crispy Salt and Pepper Potatoes</td>\n",
       "      <td>['2 large egg whites', '1 pound new potatoes (...</td>\n",
       "      <td>Preheat oven to 400°F and line a rimmed baking...</td>\n",
       "      <td>crispy-salt-and-pepper-potatoes-dan-kluger</td>\n",
       "      <td>['2 large egg whites', '1 pound new potatoes (...</td>\n",
       "    </tr>\n",
       "    <tr>\n",
       "      <th>2</th>\n",
       "      <td>2</td>\n",
       "      <td>Thanksgiving Mac and Cheese</td>\n",
       "      <td>['1 cup evaporated milk', '1 cup whole milk', ...</td>\n",
       "      <td>Place a rack in middle of oven; preheat to 400...</td>\n",
       "      <td>thanksgiving-mac-and-cheese-erick-williams</td>\n",
       "      <td>['1 cup evaporated milk', '1 cup whole milk', ...</td>\n",
       "    </tr>\n",
       "    <tr>\n",
       "      <th>3</th>\n",
       "      <td>3</td>\n",
       "      <td>Italian Sausage and Bread Stuffing</td>\n",
       "      <td>['1 (¾- to 1-pound) round italian loaf, cut in...</td>\n",
       "      <td>Preheat oven to 350°F with rack in middle. Gen...</td>\n",
       "      <td>italian-sausage-and-bread-stuffing-240559</td>\n",
       "      <td>['1 (¾- to 1-pound) round Italian loaf, cut in...</td>\n",
       "    </tr>\n",
       "    <tr>\n",
       "      <th>4</th>\n",
       "      <td>4</td>\n",
       "      <td>Newton's Law</td>\n",
       "      <td>['1 teaspoon dark brown sugar', '1 teaspoon ho...</td>\n",
       "      <td>Stir together brown sugar and hot water in a c...</td>\n",
       "      <td>newtons-law-apple-bourbon-cocktail</td>\n",
       "      <td>['1 teaspoon dark brown sugar', '1 teaspoon ho...</td>\n",
       "    </tr>\n",
       "  </tbody>\n",
       "</table>\n",
       "</div>"
      ],
      "text/plain": [
       "   Unnamed: 0                                              Title  \\\n",
       "0           0  Miso-Butter Roast Chicken With Acorn Squash Pa...   \n",
       "1           1                    Crispy Salt and Pepper Potatoes   \n",
       "2           2                        Thanksgiving Mac and Cheese   \n",
       "3           3                 Italian Sausage and Bread Stuffing   \n",
       "4           4                                       Newton's Law   \n",
       "\n",
       "                                         Ingredients  \\\n",
       "0  ['1 (3½–4-lb.) whole chicken', '2¾ tsp. kosher...   \n",
       "1  ['2 large egg whites', '1 pound new potatoes (...   \n",
       "2  ['1 cup evaporated milk', '1 cup whole milk', ...   \n",
       "3  ['1 (¾- to 1-pound) round italian loaf, cut in...   \n",
       "4  ['1 teaspoon dark brown sugar', '1 teaspoon ho...   \n",
       "\n",
       "                                        Instructions  \\\n",
       "0  Pat chicken dry with paper towels, season all ...   \n",
       "1  Preheat oven to 400°F and line a rimmed baking...   \n",
       "2  Place a rack in middle of oven; preheat to 400...   \n",
       "3  Preheat oven to 350°F with rack in middle. Gen...   \n",
       "4  Stir together brown sugar and hot water in a c...   \n",
       "\n",
       "                                          Image_Name  \\\n",
       "0  miso-butter-roast-chicken-acorn-squash-panzanella   \n",
       "1         crispy-salt-and-pepper-potatoes-dan-kluger   \n",
       "2         thanksgiving-mac-and-cheese-erick-williams   \n",
       "3          italian-sausage-and-bread-stuffing-240559   \n",
       "4                 newtons-law-apple-bourbon-cocktail   \n",
       "\n",
       "                                 Cleaned_Ingredients  \n",
       "0  ['1 (3½–4-lb.) whole chicken', '2¾ tsp. kosher...  \n",
       "1  ['2 large egg whites', '1 pound new potatoes (...  \n",
       "2  ['1 cup evaporated milk', '1 cup whole milk', ...  \n",
       "3  ['1 (¾- to 1-pound) round Italian loaf, cut in...  \n",
       "4  ['1 teaspoon dark brown sugar', '1 teaspoon ho...  "
      ]
     },
     "execution_count": 66,
     "metadata": {},
     "output_type": "execute_result"
    }
   ],
   "source": [
    "foods['Ingredients']=foods['Ingredients'].str.lower()\n",
    "foods.head()"
   ]
  },
  {
   "cell_type": "code",
   "execution_count": 67,
   "id": "cb57069e",
   "metadata": {},
   "outputs": [],
   "source": [
    "from nltk.corpus import stopwords\n",
    "from nltk.tokenize import sent_tokenize, word_tokenize\n",
    "from nltk.corpus import stopwords\n",
    "\",\".join(stopwords.words('english'))\n",
    "stop_words = set(stopwords.words('english'))\n",
    "#stop_words"
   ]
  },
  {
   "cell_type": "code",
   "execution_count": 68,
   "id": "7bfa9f54",
   "metadata": {},
   "outputs": [
    {
     "data": {
      "text/plain": [
       "0      ['1 (3½–4-lb.) whole chicken', '2¾ tsp. kosher...\n",
       "1      ['2 large egg whites', '1 pound new potatoes (...\n",
       "2      ['1 cup evaporated milk', '1 cup whole milk', ...\n",
       "3      ['1 (¾- to 1-pound) round italian loaf, cut in...\n",
       "4      ['1 teaspoon dark brown sugar', '1 teaspoon ho...\n",
       "                             ...                        \n",
       "195    ['6 tbsp. unsalted butter, room temperature, p...\n",
       "196    ['1¼ cups dried black beans, rinsed and picked...\n",
       "197    ['3 large limes, quartered', '4 cups water', '...\n",
       "198    ['4 red beets', '8 cups water', '1 cup sugar',...\n",
       "199    ['3 cups (710 ml/24 fl oz) water', 'juice of 3...\n",
       "Name: Ingredients, Length: 200, dtype: object"
      ]
     },
     "execution_count": 68,
     "metadata": {},
     "output_type": "execute_result"
    }
   ],
   "source": [
    "foods['Ingredients']"
   ]
  },
  {
   "cell_type": "code",
   "execution_count": 69,
   "id": "8318dfc4",
   "metadata": {},
   "outputs": [],
   "source": [
    "# import ast\n",
    "# import re\n",
    "# import string\n",
    "\n",
    "\n",
    "# def ingredient_parser(ingreds):\n",
    "#     '''\n",
    "    \n",
    "#     This function takes in a list (but it is a string as it comes from pandas dataframe) of \n",
    "#        ingredients and performs some preprocessing. \n",
    "#        For example:\n",
    "\n",
    "#        input = '['1 x 1.6kg whole duck', '2 heaped teaspoons Chinese five-spice powder', '1 clementine',\n",
    "#                  '6 fresh bay leaves', 'GRAVY', '', '1 bulb of garlic', '2 carrots', '2 red onions', \n",
    "#                  '3 tablespoons plain flour', '100 ml Marsala', '1 litre organic chicken stock']'\n",
    "       \n",
    "#        output = ['duck', 'chinese five spice powder', 'clementine', 'fresh bay leaf', 'gravy', 'garlic',\n",
    "#                  'carrot', 'red onion', 'plain flour', 'marsala', 'organic chicken stock']\n",
    "\n",
    "#     '''\n",
    "#     measures = ['teaspoon', 't', 'tsp.', 'tablespoon', 'T', 'tbl.', 'tb', 'tbsp.', 'fluid ounce', 'fl oz', 'gill', 'cup', 'c', 'pint', 'p', 'pt', 'fl pt', 'quart', 'q', 'qt', 'fl qt', 'gallon', 'g', 'gal', 'ml', 'milliliter', 'millilitre', 'cc', 'mL', 'l', 'liter', 'litre', 'L', 'dl', 'deciliter', 'decilitre', 'dL', 'bulb', 'level', 'heaped', 'rounded', 'whole', 'pinch', 'medium', 'slice', 'pound', 'lb', '#', 'ounce', 'oz', 'mg', 'milligram', 'milligramme', 'g', 'gram', 'gramme', 'kg', 'kilogram', 'kilogramme', 'x', 'of', 'mm', 'millimetre', 'millimeter', 'cm', 'centimeter', 'centimetre', 'm', 'meter', 'metre', 'inch', 'in', 'milli', 'centi', 'deci', 'hecto', 'kilo']\n",
    "#     words_to_remove = ['fresh', 'oil', 'a', 'red', 'bunch', 'and', 'clove', 'or', 'leaf', 'chilli', 'large', 'extra', 'sprig', 'ground', 'handful', 'free', 'small', 'pepper', 'virgin', 'range', 'from', 'dried', 'sustainable', 'black', 'peeled', 'higher', 'welfare', 'seed', 'for', 'finely', 'freshly', 'sea', 'quality', 'white', 'ripe', 'few', 'piece', 'source', 'to', 'organic', 'flat', 'smoked', 'ginger', 'sliced', 'green', 'picked', 'the', 'stick', 'plain', 'plus', 'mixed', 'mint', 'bay', 'basil', 'your', 'cumin', 'optional', 'fennel', 'serve', 'mustard', 'unsalted', 'baby', 'paprika', 'fat', 'ask', 'natural', 'skin', 'roughly', 'into', 'such', 'cut', 'good', 'brown', 'grated', 'trimmed', 'oregano', 'powder', 'yellow', 'dusting', 'knob', 'frozen', 'on', 'deseeded', 'low', 'runny', 'balsamic', 'cooked', 'streaky', 'nutmeg', 'sage', 'rasher', 'zest', 'pin', 'groundnut', 'breadcrumb', 'turmeric', 'halved', 'grating', 'stalk', 'light', 'tinned', 'dry', 'soft', 'rocket', 'bone', 'colour', 'washed', 'skinless', 'leftover', 'splash', 'removed', 'dijon', 'thick', 'big', 'hot', 'drained', 'sized', 'chestnut', 'watercress', 'fishmonger', 'english', 'dill', 'caper', 'raw', 'worcestershire', 'flake', 'cider', 'cayenne', 'tbsp', 'leg', 'pine', 'wild', 'if', 'fine', 'herb', 'almond', 'shoulder', 'cube', 'dressing', 'with', 'chunk', 'spice', 'thumb', 'garam', 'new', 'little', 'punnet', 'peppercorn', 'shelled', 'saffron', 'other''chopped', 'salt', 'olive', 'taste', 'can', 'sauce', 'water', 'diced', 'package', 'italian', 'shredded', 'divided', 'parsley', 'vinegar', 'all', 'purpose', 'crushed', 'juice', 'more', 'coriander', 'bell', 'needed', 'thinly', 'boneless', 'half', 'thyme', 'cubed', 'cinnamon', 'cilantro', 'jar', 'seasoning', 'rosemary', 'extract', 'sweet', 'baking', 'beaten', 'heavy', 'seeded', 'tin', 'vanilla', 'uncooked', 'crumb', 'style', 'thin', 'nut', 'coarsely', 'spring', 'chili', 'cornstarch', 'strip', 'cardamom', 'rinsed', 'honey', 'cherry', 'root', 'quartered', 'head', 'softened', 'container', 'crumbled', 'frying', 'lean', 'cooking', 'roasted', 'warm', 'whipping', 'thawed', 'corn', 'pitted', 'sun', 'kosher', 'bite', 'toasted', 'lasagna', 'split', 'melted', 'degree', 'lengthwise', 'romano', 'packed', 'pod', 'anchovy', 'rom', 'prepared', 'juiced', 'fluid', 'floret', 'room', 'active', 'seasoned', 'mix', 'deveined', 'lightly', 'anise', 'thai', 'size', 'unsweetened', 'torn', 'wedge', 'sour', 'basmati', 'marinara', 'dark', 'temperature', 'garnish', 'bouillon', 'loaf', 'shell', 'reggiano', 'canola', 'parmigiano', 'round', 'canned', 'ghee', 'crust', 'long', 'broken', 'ketchup', 'bulk', 'cleaned', 'condensed', 'sherry', 'provolone', 'cold', 'soda', 'cottage', 'spray', 'tamarind', 'pecorino', 'shortening', 'part', 'bottle', 'sodium', 'cocoa', 'grain', 'french', 'roast', 'stem', 'link', 'firm', 'asafoetida', 'mild', 'dash', 'boiling']\n",
    "#     # The ingredient list is now a string so we need to turn it back into a list. We use ast.literal_eval\n",
    "#     if isinstance(ingreds, list):\n",
    "#         ingredients = ingreds\n",
    "#     else:\n",
    "#         ingredients = ast.literal_eval(ingreds)\n",
    "#     # We first get rid of all the punctuation. We make use of str.maketrans. It takes three input \n",
    "#     # arguments 'x', 'y', 'z'. 'x' and 'y' must be equal-length strings and characters in 'x'\n",
    "#     # are replaced by characters in 'y'. 'z' is a string (string.punctuation here) where each character\n",
    "#     #  in the string is mapped to None. \n",
    "#     translator = str.maketrans('', '', string.punctuation)\n",
    "#     lemmatizer = WordNetLemmatizer()\n",
    "#     ingred_list = []\n",
    "#     for i in ingredients:\n",
    "#         i.translate(translator)\n",
    "#         # We split up with hyphens as well as spaces\n",
    "#         items = re.split(' |-', i)\n",
    "#         # Get rid of words containing non alphabet letters\n",
    "#         items = [word for word in items if word.isalpha()]\n",
    "#         # Turn everything to lowercase\n",
    "#         items = [word.lower() for word in items]\n",
    "#         # remove accents\n",
    "#         items = [unidecode.unidecode(word) for word in items] #''.join((c for c in unicodedata.normalize('NFD', items) if unicodedata.category(c) != 'Mn'))\n",
    "#         # Lemmatize words so we can compare words to measuring words\n",
    "#         items = [lemmatizer.lemmatize(word) for word in items]\n",
    "#         # Gets rid of measuring words/phrases, e.g. heaped teaspoon\n",
    "#         items = [word for word in items if word not in measures]\n",
    "#         # Get rid of common easy words\n",
    "#         items = [word for word in items if word not in words_to_remove]\n",
    "#         if items:\n",
    "#             ingred_list.append(' '.join(items)) \n",
    "#     ingred_list = \" \".join(ingred_list)\n",
    "#     return ingred_list"
   ]
  },
  {
   "cell_type": "code",
   "execution_count": 70,
   "id": "fe406d2c",
   "metadata": {},
   "outputs": [],
   "source": [
    "def remove_stop(x):\n",
    "    return \" \".join([word for word in str(x).split() if word not in stop_words])\n",
    "filtered_ing = foods['Ingredients'].apply(lambda x: remove_stop(x))"
   ]
  },
  {
   "cell_type": "code",
   "execution_count": 71,
   "id": "75bfd10a",
   "metadata": {},
   "outputs": [
    {
     "data": {
      "text/plain": [
       "0      ['1 (3½–4-lb.) whole chicken', '2¾ tsp. kosher...\n",
       "1      ['2 large egg whites', '1 pound new potatoes (...\n",
       "2      ['1 cup evaporated milk', '1 cup whole milk', ...\n",
       "3      ['1 (¾- 1-pound) round italian loaf, cut 1-inc...\n",
       "4      ['1 teaspoon dark brown sugar', '1 teaspoon ho...\n",
       "                             ...                        \n",
       "195    ['6 tbsp. unsalted butter, room temperature, p...\n",
       "196    ['1¼ cups dried black beans, rinsed picked ove...\n",
       "197    ['3 large limes, quartered', '4 cups water', '...\n",
       "198    ['4 red beets', '8 cups water', '1 cup sugar',...\n",
       "199    ['3 cups (710 ml/24 fl oz) water', 'juice 3 gr...\n",
       "Name: Ingredients, Length: 200, dtype: object"
      ]
     },
     "execution_count": 71,
     "metadata": {},
     "output_type": "execute_result"
    }
   ],
   "source": [
    "filtered_ing"
   ]
  },
  {
   "cell_type": "code",
   "execution_count": 72,
   "id": "ceb2cb74",
   "metadata": {},
   "outputs": [],
   "source": [
    "from sklearn.feature_extraction.text import TfidfVectorizer\n",
    "\n",
    "tfv = TfidfVectorizer(min_df=3, max_features=None,\n",
    "            strip_accents ='unicode', analyzer='word',token_pattern=r'\\w{1,}',\n",
    "            ngram_range=(1,3),\n",
    "            stop_words= 'english')                 \n",
    "\n",
    "foods_cleaned_df = foods['Ingredients'].fillna('')"
   ]
  },
  {
   "cell_type": "code",
   "execution_count": 73,
   "id": "2b5a9ed2",
   "metadata": {},
   "outputs": [],
   "source": [
    "tfv_matrix = tfv.fit_transform(foods_cleaned_df)"
   ]
  },
  {
   "cell_type": "code",
   "execution_count": 74,
   "id": "114c7f7d",
   "metadata": {},
   "outputs": [
    {
     "data": {
      "text/plain": [
       "<200x1916 sparse matrix of type '<class 'numpy.float64'>'\n",
       "\twith 18239 stored elements in Compressed Sparse Row format>"
      ]
     },
     "execution_count": 74,
     "metadata": {},
     "output_type": "execute_result"
    }
   ],
   "source": [
    "tfv_matrix"
   ]
  },
  {
   "cell_type": "code",
   "execution_count": 75,
   "id": "e28f920c",
   "metadata": {},
   "outputs": [
    {
     "data": {
      "text/plain": [
       "(200, 1916)"
      ]
     },
     "execution_count": 75,
     "metadata": {},
     "output_type": "execute_result"
    }
   ],
   "source": [
    "tfv_matrix.shape"
   ]
  },
  {
   "cell_type": "code",
   "execution_count": 76,
   "id": "a60f6abc",
   "metadata": {},
   "outputs": [],
   "source": [
    "from sklearn.metrics.pairwise import sigmoid_kernel\n",
    "\n",
    "sig = sigmoid_kernel(tfv_matrix, tfv_matrix)"
   ]
  },
  {
   "cell_type": "code",
   "execution_count": 77,
   "id": "a65b4ce6",
   "metadata": {},
   "outputs": [
    {
     "data": {
      "text/plain": [
       "array([0.76181326, 0.76162767, 0.76162559, 0.76162616, 0.76161205,\n",
       "       0.76161154, 0.76162838, 0.76161721, 0.76163759, 0.76165602,\n",
       "       0.7616341 , 0.76161572, 0.76164157, 0.76165974, 0.76165345,\n",
       "       0.76163964, 0.76162298, 0.76160895, 0.76164626, 0.76164509,\n",
       "       0.76162577, 0.76163509, 0.76161286, 0.76160818, 0.76162744,\n",
       "       0.76162418, 0.76167109, 0.76162638, 0.76162647, 0.76162542,\n",
       "       0.76162437, 0.76162898, 0.7616184 , 0.76163333, 0.76163241,\n",
       "       0.76160227, 0.76163227, 0.76160961, 0.761651  , 0.76160916,\n",
       "       0.76162253, 0.76160835, 0.76166625, 0.76165901, 0.76162994,\n",
       "       0.76162059, 0.76162054, 0.76162276, 0.76165889, 0.76166543,\n",
       "       0.76163689, 0.76162642, 0.76162934, 0.76162686, 0.7616369 ,\n",
       "       0.7616332 , 0.76164494, 0.76164919, 0.76164163, 0.76164351,\n",
       "       0.76163029, 0.76164125, 0.76163339, 0.76164709, 0.76160509,\n",
       "       0.76163906, 0.76165005, 0.76168065, 0.76161472, 0.76163909,\n",
       "       0.76164429, 0.76164252, 0.76163607, 0.76165425, 0.76161767,\n",
       "       0.76163541, 0.76162503, 0.76166028, 0.76164144, 0.76161741,\n",
       "       0.76163558, 0.76162616, 0.7616262 , 0.7616029 , 0.76161207,\n",
       "       0.76160951, 0.76163164, 0.76161067, 0.76162408, 0.76164412,\n",
       "       0.76163573, 0.76162922, 0.76164118, 0.76163756, 0.7616421 ,\n",
       "       0.76164029, 0.7616369 , 0.76160306, 0.76163543, 0.76163401,\n",
       "       0.76165782, 0.76163792, 0.76162692, 0.76162118, 0.7616091 ,\n",
       "       0.76160722, 0.76165699, 0.76160568, 0.76162861, 0.76165339,\n",
       "       0.76163456, 0.76163754, 0.76162676, 0.76163918, 0.76162141,\n",
       "       0.76161581, 0.76160657, 0.76162312, 0.76162144, 0.76160801,\n",
       "       0.7616346 , 0.76163784, 0.76161083, 0.76164262, 0.7616411 ,\n",
       "       0.76163969, 0.76163173, 0.76161872, 0.76161462, 0.76165169,\n",
       "       0.7616166 , 0.76165203, 0.76164827, 0.76163495, 0.76165141,\n",
       "       0.76164271, 0.76163547, 0.76166107, 0.76162886, 0.76163748,\n",
       "       0.76160359, 0.76160893, 0.7616069 , 0.76160549, 0.76160626,\n",
       "       0.76160758, 0.76160513, 0.76161502, 0.76160075, 0.76159964,\n",
       "       0.76161019, 0.76162352, 0.76164178, 0.76164627, 0.76163005,\n",
       "       0.76163931, 0.76163803, 0.76163006, 0.76163477, 0.76162358,\n",
       "       0.76163847, 0.76161692, 0.76162155, 0.76163189, 0.76162754,\n",
       "       0.76162373, 0.76162536, 0.76163824, 0.76161316, 0.76163045,\n",
       "       0.76162368, 0.76162589, 0.76161621, 0.76162874, 0.76160495,\n",
       "       0.76163071, 0.76165425, 0.76161514, 0.76163019, 0.76163021,\n",
       "       0.76163466, 0.76163505, 0.76162066, 0.76164061, 0.7616323 ,\n",
       "       0.76164304, 0.76162975, 0.76164597, 0.76163309, 0.76162637,\n",
       "       0.76163763, 0.76161899, 0.76163096, 0.76162971, 0.76161955,\n",
       "       0.76164994, 0.76160591, 0.76161418, 0.76161146, 0.76160928])"
      ]
     },
     "execution_count": 77,
     "metadata": {},
     "output_type": "execute_result"
    }
   ],
   "source": [
    "sig[0]"
   ]
  },
  {
   "cell_type": "code",
   "execution_count": 78,
   "id": "96faeb88",
   "metadata": {},
   "outputs": [],
   "source": [
    "indices = pd.Series(foods_cleaned_df.index, index=foods['Title'])"
   ]
  },
  {
   "cell_type": "code",
   "execution_count": 79,
   "id": "986f44c6",
   "metadata": {},
   "outputs": [
    {
     "data": {
      "text/plain": [
       "Title\n",
       "Miso-Butter Roast Chicken With Acorn Squash Panzanella                                      0\n",
       "Crispy Salt and Pepper Potatoes                                                             1\n",
       "Thanksgiving Mac and Cheese                                                                 2\n",
       "Italian Sausage and Bread Stuffing                                                          3\n",
       "Newton's Law                                                                                4\n",
       "                                                                                         ... \n",
       "Win Son Bakery's Red Date Cake                                                            195\n",
       "Kong Jaban (Korean Sweet Black Beans)                                                     196\n",
       "Agua de Limón con Chía (Limeade With Chia Seeds)                                          197\n",
       "Lágrimas de la Virgen (Beet Cooler With Fruits)                                           198\n",
       "Guava, Grapefruit, and Rosemary Agua Fresca (Agua fresca de guayaba, toronja y romero)    199\n",
       "Length: 200, dtype: int64"
      ]
     },
     "execution_count": 79,
     "metadata": {},
     "output_type": "execute_result"
    }
   ],
   "source": [
    "indices"
   ]
  },
  {
   "cell_type": "code",
   "execution_count": 80,
   "id": "5ca13028",
   "metadata": {},
   "outputs": [
    {
     "data": {
      "text/plain": [
       "3"
      ]
     },
     "execution_count": 80,
     "metadata": {},
     "output_type": "execute_result"
    }
   ],
   "source": [
    "indices['Italian Sausage and Bread Stuffing']"
   ]
  },
  {
   "cell_type": "code",
   "execution_count": 81,
   "id": "bcc7feeb",
   "metadata": {},
   "outputs": [
    {
     "data": {
      "text/plain": [
       "array([0.76162616, 0.76162057, 0.76161108, 0.76181326, 0.7616076 ,\n",
       "       0.76160506, 0.76160802, 0.76161026, 0.76162752, 0.76161902,\n",
       "       0.76161647, 0.76161969, 0.76164854, 0.76162776, 0.76163521,\n",
       "       0.76162246, 0.76162198, 0.76160004, 0.76163434, 0.76163166,\n",
       "       0.76162278, 0.76162668, 0.76161923, 0.76160386, 0.76166097,\n",
       "       0.76161439, 0.76162534, 0.76163286, 0.76162589, 0.7616258 ,\n",
       "       0.76161184, 0.76165247, 0.7616091 , 0.76163629, 0.76163137,\n",
       "       0.76160049, 0.7616251 , 0.76160721, 0.76160481, 0.76161827,\n",
       "       0.76161692, 0.76161977, 0.76162775, 0.7616553 , 0.76162827,\n",
       "       0.76161093, 0.76160888, 0.7616357 , 0.76162897, 0.76163654,\n",
       "       0.76161917, 0.76161165, 0.76160453, 0.76161384, 0.76164349,\n",
       "       0.76162155, 0.76161799, 0.76161875, 0.76162652, 0.76162688,\n",
       "       0.76162668, 0.76162971, 0.76161996, 0.76162038, 0.76160904,\n",
       "       0.76162063, 0.76161787, 0.76163184, 0.76160608, 0.76164624,\n",
       "       0.7616223 , 0.76163648, 0.76163435, 0.7616223 , 0.76164262,\n",
       "       0.76162675, 0.7616269 , 0.76162251, 0.76164059, 0.7616204 ,\n",
       "       0.76163126, 0.76162735, 0.76163635, 0.76161644, 0.76160457,\n",
       "       0.76160923, 0.76163   , 0.76161571, 0.76161431, 0.76161684,\n",
       "       0.76162056, 0.7616205 , 0.76162929, 0.76162114, 0.76161721,\n",
       "       0.76162627, 0.76163019, 0.76160301, 0.76165931, 0.76162281,\n",
       "       0.76163481, 0.76163095, 0.7616183 , 0.76161237, 0.7616044 ,\n",
       "       0.76160347, 0.76162706, 0.76160117, 0.76161247, 0.76161724,\n",
       "       0.76161825, 0.76163267, 0.76160821, 0.7616232 , 0.76161461,\n",
       "       0.76163304, 0.76161121, 0.76164841, 0.76161845, 0.7616177 ,\n",
       "       0.76161107, 0.76160966, 0.76161161, 0.76162575, 0.76162336,\n",
       "       0.76162413, 0.76162258, 0.76162089, 0.76160409, 0.76161722,\n",
       "       0.76159681, 0.76161552, 0.76160834, 0.76161711, 0.76162344,\n",
       "       0.76162986, 0.7616309 , 0.76163035, 0.76162772, 0.76161793,\n",
       "       0.76159971, 0.76161558, 0.76160898, 0.7616026 , 0.76160547,\n",
       "       0.76162348, 0.76161133, 0.76161024, 0.76160905, 0.76161513,\n",
       "       0.76161026, 0.76162434, 0.76162747, 0.76161655, 0.76161184,\n",
       "       0.76165605, 0.7616237 , 0.76165224, 0.76162084, 0.76162677,\n",
       "       0.76164421, 0.76161939, 0.76161522, 0.76164718, 0.76162809,\n",
       "       0.76161856, 0.76162579, 0.76162866, 0.76162275, 0.76162123,\n",
       "       0.76164   , 0.76163059, 0.76161616, 0.76162788, 0.76161967,\n",
       "       0.7616147 , 0.76162617, 0.7616148 , 0.76162517, 0.76162453,\n",
       "       0.76161724, 0.76162775, 0.76160522, 0.76161921, 0.76162994,\n",
       "       0.76161743, 0.76160846, 0.76162444, 0.76162794, 0.76160876,\n",
       "       0.76162671, 0.76161602, 0.76162401, 0.76162138, 0.76164837,\n",
       "       0.76163035, 0.76161061, 0.76162188, 0.76161291, 0.76160773])"
      ]
     },
     "execution_count": 81,
     "metadata": {},
     "output_type": "execute_result"
    }
   ],
   "source": [
    "sig[3]"
   ]
  },
  {
   "cell_type": "code",
   "execution_count": 82,
   "id": "9a1bc60f",
   "metadata": {},
   "outputs": [
    {
     "data": {
      "text/plain": [
       "[(0, 0.7616261631724036),\n",
       " (1, 0.761620574659186),\n",
       " (2, 0.7616110840391593),\n",
       " (3, 0.7618132621319194),\n",
       " (4, 0.7616076048507885),\n",
       " (5, 0.7616050576422878),\n",
       " (6, 0.761608022285884),\n",
       " (7, 0.761610262250302),\n",
       " (8, 0.7616275220747578),\n",
       " (9, 0.7616190229932607),\n",
       " (10, 0.7616164701384595),\n",
       " (11, 0.7616196854155434),\n",
       " (12, 0.7616485411085094),\n",
       " (13, 0.7616277580892477),\n",
       " (14, 0.7616352076931084),\n",
       " (15, 0.7616224588289808),\n",
       " (16, 0.7616219799825684),\n",
       " (17, 0.7616000394660069),\n",
       " (18, 0.7616343350380265),\n",
       " (19, 0.7616316586913583),\n",
       " (20, 0.7616227811161739),\n",
       " (21, 0.7616266829169732),\n",
       " (22, 0.7616192346404348),\n",
       " (23, 0.7616038643494164),\n",
       " (24, 0.7616609721100359),\n",
       " (25, 0.7616143931186764),\n",
       " (26, 0.7616253449744784),\n",
       " (27, 0.7616328580681456),\n",
       " (28, 0.7616258883153522),\n",
       " (29, 0.7616257972634879),\n",
       " (30, 0.7616118436890432),\n",
       " (31, 0.7616524715592672),\n",
       " (32, 0.7616091037617172),\n",
       " (33, 0.7616362850731768),\n",
       " (34, 0.7616313674091912),\n",
       " (35, 0.761600488406386),\n",
       " (36, 0.7616251041543902),\n",
       " (37, 0.76160721219271),\n",
       " (38, 0.7616048135972047),\n",
       " (39, 0.7616182686294346),\n",
       " (40, 0.7616169178852864),\n",
       " (41, 0.7616197715332155),\n",
       " (42, 0.7616277498106849),\n",
       " (43, 0.7616553007099998),\n",
       " (44, 0.7616282663243036),\n",
       " (45, 0.7616109263236798),\n",
       " (46, 0.7616088849018345),\n",
       " (47, 0.761635697893805),\n",
       " (48, 0.761628972254445),\n",
       " (49, 0.761636536960728),\n",
       " (50, 0.7616191690076889),\n",
       " (51, 0.761611650964857),\n",
       " (52, 0.7616045347121707),\n",
       " (53, 0.7616138414763566),\n",
       " (54, 0.7616434896287353),\n",
       " (55, 0.7616215476707041),\n",
       " (56, 0.7616179867744436),\n",
       " (57, 0.7616187531297736),\n",
       " (58, 0.7616265216081984),\n",
       " (59, 0.7616268754109787),\n",
       " (60, 0.7616266753779296),\n",
       " (61, 0.7616297058432595),\n",
       " (62, 0.7616199638505734),\n",
       " (63, 0.7616203810000749),\n",
       " (64, 0.7616090369287236),\n",
       " (65, 0.7616206294243331),\n",
       " (66, 0.7616178659533172),\n",
       " (67, 0.7616318382345226),\n",
       " (68, 0.761606084844962),\n",
       " (69, 0.7616462444101197),\n",
       " (70, 0.7616223011461523),\n",
       " (71, 0.7616364818877998),\n",
       " (72, 0.761634345010173),\n",
       " (73, 0.7616223028650947),\n",
       " (74, 0.7616426220262315),\n",
       " (75, 0.7616267466350566),\n",
       " (76, 0.7616268964114259),\n",
       " (77, 0.7616225113422668),\n",
       " (78, 0.7616405892794285),\n",
       " (79, 0.7616204008907915),\n",
       " (80, 0.7616312637064503),\n",
       " (81, 0.7616273464382415),\n",
       " (82, 0.7616363512358851),\n",
       " (83, 0.761616439285185),\n",
       " (84, 0.7616045666907733),\n",
       " (85, 0.7616092345849763),\n",
       " (86, 0.7616299993475869),\n",
       " (87, 0.7616157141474268),\n",
       " (88, 0.7616143110357149),\n",
       " (89, 0.7616168384289536),\n",
       " (90, 0.7616205575324173),\n",
       " (91, 0.7616205028875433),\n",
       " (92, 0.7616292907522356),\n",
       " (93, 0.7616211421515201),\n",
       " (94, 0.7616172099892146),\n",
       " (95, 0.761626273075868),\n",
       " (96, 0.7616301947579893),\n",
       " (97, 0.7616030084403328),\n",
       " (98, 0.7616593055176762),\n",
       " (99, 0.7616228095353743),\n",
       " (100, 0.7616348145028191),\n",
       " (101, 0.7616309465356309),\n",
       " (102, 0.7616183004815078),\n",
       " (103, 0.7616123660685487),\n",
       " (104, 0.761604399156925),\n",
       " (105, 0.761603467692366),\n",
       " (106, 0.7616270632038568),\n",
       " (107, 0.7616011680523582),\n",
       " (108, 0.7616124710017549),\n",
       " (109, 0.7616172404330711),\n",
       " (110, 0.7616182480727587),\n",
       " (111, 0.761632666559192),\n",
       " (112, 0.7616082092595909),\n",
       " (113, 0.7616231952180285),\n",
       " (114, 0.7616146094936738),\n",
       " (115, 0.7616330391443987),\n",
       " (116, 0.7616112138531356),\n",
       " (117, 0.7616484149136293),\n",
       " (118, 0.761618447625762),\n",
       " (119, 0.7616177043053765),\n",
       " (120, 0.7616110678661203),\n",
       " (121, 0.7616096552446638),\n",
       " (122, 0.7616116133771422),\n",
       " (123, 0.7616257539544069),\n",
       " (124, 0.7616233628135569),\n",
       " (125, 0.7616241305965368),\n",
       " (126, 0.7616225795378058),\n",
       " (127, 0.7616208897234986),\n",
       " (128, 0.7616040900698924),\n",
       " (129, 0.7616172208045356),\n",
       " (130, 0.76159680638891),\n",
       " (131, 0.7616155215057394),\n",
       " (132, 0.7616083379659427),\n",
       " (133, 0.7616171103068489),\n",
       " (134, 0.7616234369018802),\n",
       " (135, 0.7616298551289395),\n",
       " (136, 0.7616309039031055),\n",
       " (137, 0.7616303532745755),\n",
       " (138, 0.7616277240748164),\n",
       " (139, 0.7616179315733723),\n",
       " (140, 0.7615997099411687),\n",
       " (141, 0.7616155767417105),\n",
       " (142, 0.761608978588487),\n",
       " (143, 0.7616025997462812),\n",
       " (144, 0.7616054677894107),\n",
       " (145, 0.7616234795279562),\n",
       " (146, 0.7616113253969874),\n",
       " (147, 0.7616102366204842),\n",
       " (148, 0.7616090544878708),\n",
       " (149, 0.7616151254750095),\n",
       " (150, 0.7616102573117246),\n",
       " (151, 0.7616243368681268),\n",
       " (152, 0.7616274652486481),\n",
       " (153, 0.7616165491423897),\n",
       " (154, 0.7616118392996575),\n",
       " (155, 0.7616560502293954),\n",
       " (156, 0.7616236977229722),\n",
       " (157, 0.7616522360778852),\n",
       " (158, 0.761620835122591),\n",
       " (159, 0.7616267705894519),\n",
       " (160, 0.7616442076244938),\n",
       " (161, 0.7616193892026377),\n",
       " (162, 0.761615221474944),\n",
       " (163, 0.7616471797400475),\n",
       " (164, 0.7616280901503183),\n",
       " (165, 0.7616185580586814),\n",
       " (166, 0.7616257853822423),\n",
       " (167, 0.7616286569338462),\n",
       " (168, 0.7616227535395085),\n",
       " (169, 0.7616212308929593),\n",
       " (170, 0.7616399992616494),\n",
       " (171, 0.7616305915630239),\n",
       " (172, 0.761616161892623),\n",
       " (173, 0.761627881410554),\n",
       " (174, 0.7616196699136228),\n",
       " (175, 0.7616147048557046),\n",
       " (176, 0.7616261658373789),\n",
       " (177, 0.7616147971815759),\n",
       " (178, 0.7616251663249343),\n",
       " (179, 0.7616245274737266),\n",
       " (180, 0.7616172378653326),\n",
       " (181, 0.7616277473535688),\n",
       " (182, 0.7616052207461023),\n",
       " (183, 0.7616192136201567),\n",
       " (184, 0.7616299367897337),\n",
       " (185, 0.7616174334214293),\n",
       " (186, 0.7616084644187332),\n",
       " (187, 0.7616244367722987),\n",
       " (188, 0.7616279438284362),\n",
       " (189, 0.7616087624038334),\n",
       " (190, 0.7616267146724058),\n",
       " (191, 0.7616160238925951),\n",
       " (192, 0.7616240142437246),\n",
       " (193, 0.7616213818315287),\n",
       " (194, 0.7616483662902999),\n",
       " (195, 0.761630351982624),\n",
       " (196, 0.7616106054011286),\n",
       " (197, 0.7616218757906087),\n",
       " (198, 0.7616129086495695),\n",
       " (199, 0.7616077300721378)]"
      ]
     },
     "execution_count": 82,
     "metadata": {},
     "output_type": "execute_result"
    }
   ],
   "source": [
    "list(enumerate(sig[indices['Italian Sausage and Bread Stuffing']]))"
   ]
  },
  {
   "cell_type": "code",
   "execution_count": 83,
   "id": "36bd23cf",
   "metadata": {},
   "outputs": [
    {
     "data": {
      "text/plain": [
       "[(3, 0.7618132621319194),\n",
       " (24, 0.7616609721100359),\n",
       " (98, 0.7616593055176762),\n",
       " (155, 0.7616560502293954),\n",
       " (43, 0.7616553007099998),\n",
       " (31, 0.7616524715592672),\n",
       " (157, 0.7616522360778852),\n",
       " (12, 0.7616485411085094),\n",
       " (117, 0.7616484149136293),\n",
       " (194, 0.7616483662902999),\n",
       " (163, 0.7616471797400475),\n",
       " (69, 0.7616462444101197),\n",
       " (160, 0.7616442076244938),\n",
       " (54, 0.7616434896287353),\n",
       " (74, 0.7616426220262315),\n",
       " (78, 0.7616405892794285),\n",
       " (170, 0.7616399992616494),\n",
       " (49, 0.761636536960728),\n",
       " (71, 0.7616364818877998),\n",
       " (82, 0.7616363512358851),\n",
       " (33, 0.7616362850731768),\n",
       " (47, 0.761635697893805),\n",
       " (14, 0.7616352076931084),\n",
       " (100, 0.7616348145028191),\n",
       " (72, 0.761634345010173),\n",
       " (18, 0.7616343350380265),\n",
       " (115, 0.7616330391443987),\n",
       " (27, 0.7616328580681456),\n",
       " (111, 0.761632666559192),\n",
       " (67, 0.7616318382345226),\n",
       " (19, 0.7616316586913583),\n",
       " (34, 0.7616313674091912),\n",
       " (80, 0.7616312637064503),\n",
       " (101, 0.7616309465356309),\n",
       " (136, 0.7616309039031055),\n",
       " (171, 0.7616305915630239),\n",
       " (137, 0.7616303532745755),\n",
       " (195, 0.761630351982624),\n",
       " (96, 0.7616301947579893),\n",
       " (86, 0.7616299993475869),\n",
       " (184, 0.7616299367897337),\n",
       " (135, 0.7616298551289395),\n",
       " (61, 0.7616297058432595),\n",
       " (92, 0.7616292907522356),\n",
       " (48, 0.761628972254445),\n",
       " (167, 0.7616286569338462),\n",
       " (44, 0.7616282663243036),\n",
       " (164, 0.7616280901503183),\n",
       " (188, 0.7616279438284362),\n",
       " (173, 0.761627881410554),\n",
       " (13, 0.7616277580892477),\n",
       " (42, 0.7616277498106849),\n",
       " (181, 0.7616277473535688),\n",
       " (138, 0.7616277240748164),\n",
       " (8, 0.7616275220747578),\n",
       " (152, 0.7616274652486481),\n",
       " (81, 0.7616273464382415),\n",
       " (106, 0.7616270632038568),\n",
       " (76, 0.7616268964114259),\n",
       " (59, 0.7616268754109787),\n",
       " (159, 0.7616267705894519),\n",
       " (75, 0.7616267466350566),\n",
       " (190, 0.7616267146724058),\n",
       " (21, 0.7616266829169732),\n",
       " (60, 0.7616266753779296),\n",
       " (58, 0.7616265216081984),\n",
       " (95, 0.761626273075868),\n",
       " (176, 0.7616261658373789),\n",
       " (0, 0.7616261631724036),\n",
       " (28, 0.7616258883153522),\n",
       " (29, 0.7616257972634879),\n",
       " (166, 0.7616257853822423),\n",
       " (123, 0.7616257539544069),\n",
       " (26, 0.7616253449744784),\n",
       " (178, 0.7616251663249343),\n",
       " (36, 0.7616251041543902),\n",
       " (179, 0.7616245274737266),\n",
       " (187, 0.7616244367722987),\n",
       " (151, 0.7616243368681268),\n",
       " (125, 0.7616241305965368),\n",
       " (192, 0.7616240142437246),\n",
       " (156, 0.7616236977229722),\n",
       " (145, 0.7616234795279562),\n",
       " (134, 0.7616234369018802),\n",
       " (124, 0.7616233628135569),\n",
       " (113, 0.7616231952180285),\n",
       " (99, 0.7616228095353743),\n",
       " (20, 0.7616227811161739),\n",
       " (168, 0.7616227535395085),\n",
       " (126, 0.7616225795378058),\n",
       " (77, 0.7616225113422668),\n",
       " (15, 0.7616224588289808),\n",
       " (73, 0.7616223028650947),\n",
       " (70, 0.7616223011461523),\n",
       " (16, 0.7616219799825684),\n",
       " (197, 0.7616218757906087),\n",
       " (55, 0.7616215476707041),\n",
       " (193, 0.7616213818315287),\n",
       " (169, 0.7616212308929593),\n",
       " (93, 0.7616211421515201),\n",
       " (127, 0.7616208897234986),\n",
       " (158, 0.761620835122591),\n",
       " (65, 0.7616206294243331),\n",
       " (1, 0.761620574659186),\n",
       " (90, 0.7616205575324173),\n",
       " (91, 0.7616205028875433),\n",
       " (79, 0.7616204008907915),\n",
       " (63, 0.7616203810000749),\n",
       " (62, 0.7616199638505734),\n",
       " (41, 0.7616197715332155),\n",
       " (11, 0.7616196854155434),\n",
       " (174, 0.7616196699136228),\n",
       " (161, 0.7616193892026377),\n",
       " (22, 0.7616192346404348),\n",
       " (183, 0.7616192136201567),\n",
       " (50, 0.7616191690076889),\n",
       " (9, 0.7616190229932607),\n",
       " (57, 0.7616187531297736),\n",
       " (165, 0.7616185580586814),\n",
       " (118, 0.761618447625762),\n",
       " (102, 0.7616183004815078),\n",
       " (39, 0.7616182686294346),\n",
       " (110, 0.7616182480727587),\n",
       " (56, 0.7616179867744436),\n",
       " (139, 0.7616179315733723),\n",
       " (66, 0.7616178659533172),\n",
       " (119, 0.7616177043053765),\n",
       " (185, 0.7616174334214293),\n",
       " (109, 0.7616172404330711),\n",
       " (180, 0.7616172378653326),\n",
       " (129, 0.7616172208045356),\n",
       " (94, 0.7616172099892146),\n",
       " (133, 0.7616171103068489),\n",
       " (40, 0.7616169178852864),\n",
       " (89, 0.7616168384289536),\n",
       " (153, 0.7616165491423897),\n",
       " (10, 0.7616164701384595),\n",
       " (83, 0.761616439285185),\n",
       " (172, 0.761616161892623),\n",
       " (191, 0.7616160238925951),\n",
       " (87, 0.7616157141474268),\n",
       " (141, 0.7616155767417105),\n",
       " (131, 0.7616155215057394),\n",
       " (162, 0.761615221474944),\n",
       " (149, 0.7616151254750095),\n",
       " (177, 0.7616147971815759),\n",
       " (175, 0.7616147048557046),\n",
       " (114, 0.7616146094936738),\n",
       " (25, 0.7616143931186764),\n",
       " (88, 0.7616143110357149),\n",
       " (53, 0.7616138414763566),\n",
       " (198, 0.7616129086495695),\n",
       " (108, 0.7616124710017549),\n",
       " (103, 0.7616123660685487),\n",
       " (30, 0.7616118436890432),\n",
       " (154, 0.7616118392996575),\n",
       " (51, 0.761611650964857),\n",
       " (122, 0.7616116133771422),\n",
       " (146, 0.7616113253969874),\n",
       " (116, 0.7616112138531356),\n",
       " (2, 0.7616110840391593),\n",
       " (120, 0.7616110678661203),\n",
       " (45, 0.7616109263236798),\n",
       " (196, 0.7616106054011286),\n",
       " (7, 0.761610262250302),\n",
       " (150, 0.7616102573117246),\n",
       " (147, 0.7616102366204842),\n",
       " (121, 0.7616096552446638),\n",
       " (85, 0.7616092345849763),\n",
       " (32, 0.7616091037617172),\n",
       " (148, 0.7616090544878708),\n",
       " (64, 0.7616090369287236),\n",
       " (142, 0.761608978588487),\n",
       " (46, 0.7616088849018345),\n",
       " (189, 0.7616087624038334),\n",
       " (186, 0.7616084644187332),\n",
       " (132, 0.7616083379659427),\n",
       " (112, 0.7616082092595909),\n",
       " (6, 0.761608022285884),\n",
       " (199, 0.7616077300721378),\n",
       " (4, 0.7616076048507885),\n",
       " (37, 0.76160721219271),\n",
       " (68, 0.761606084844962),\n",
       " (144, 0.7616054677894107),\n",
       " (182, 0.7616052207461023),\n",
       " (5, 0.7616050576422878),\n",
       " (38, 0.7616048135972047),\n",
       " (84, 0.7616045666907733),\n",
       " (52, 0.7616045347121707),\n",
       " (104, 0.761604399156925),\n",
       " (128, 0.7616040900698924),\n",
       " (23, 0.7616038643494164),\n",
       " (105, 0.761603467692366),\n",
       " (97, 0.7616030084403328),\n",
       " (143, 0.7616025997462812),\n",
       " (107, 0.7616011680523582),\n",
       " (35, 0.761600488406386),\n",
       " (17, 0.7616000394660069),\n",
       " (140, 0.7615997099411687),\n",
       " (130, 0.76159680638891)]"
      ]
     },
     "execution_count": 83,
     "metadata": {},
     "output_type": "execute_result"
    }
   ],
   "source": [
    "sorted(list(enumerate(sig[indices['Italian Sausage and Bread Stuffing']])),key=lambda x: x[1], reverse=True)"
   ]
  },
  {
   "cell_type": "code",
   "execution_count": 94,
   "id": "7ae43148",
   "metadata": {},
   "outputs": [],
   "source": [
    "def giv_rec(Title, sig=sig):\n",
    "    idx =indices[Title]\n",
    "    \n",
    "    sig_scores = list(enumerate(sig[idx]))\n",
    "    \n",
    "    sig_scores = sorted(sig_scores ,key=lambda x: x[1], reverse=True)\n",
    "    \n",
    "    sig_scores = sig_scores[1:11]\n",
    "    \n",
    "    food_indices = [i[0] for i in sig_scores]\n",
    "    \n",
    "    recom = pd.DataFrame(columns=['title', 'image', 'ingredients', 'instructions'])\n",
    "    count = 0\n",
    "    for i in food_indices:\n",
    "        recom.at[count, 'title'] = foods['Title'].iloc[i]\n",
    "        recom.at[count, 'image'] = foods['Image_Name'].iloc[i]\n",
    "        recom.at[count, 'ingredients'] = foods['Ingredients'].iloc[i]\n",
    "        recom.at[count, 'instructions'] = foods['Instructions'].iloc[i]\n",
    "        count += 1\n",
    "    return recom\n",
    "\n"
   ]
  },
  {
   "cell_type": "code",
   "execution_count": 95,
   "id": "5daefa71",
   "metadata": {},
   "outputs": [
    {
     "data": {
      "text/html": [
       "<div>\n",
       "<style scoped>\n",
       "    .dataframe tbody tr th:only-of-type {\n",
       "        vertical-align: middle;\n",
       "    }\n",
       "\n",
       "    .dataframe tbody tr th {\n",
       "        vertical-align: top;\n",
       "    }\n",
       "\n",
       "    .dataframe thead th {\n",
       "        text-align: right;\n",
       "    }\n",
       "</style>\n",
       "<table border=\"1\" class=\"dataframe\">\n",
       "  <thead>\n",
       "    <tr style=\"text-align: right;\">\n",
       "      <th></th>\n",
       "      <th>title</th>\n",
       "      <th>image</th>\n",
       "      <th>ingredients</th>\n",
       "      <th>instructions</th>\n",
       "    </tr>\n",
       "  </thead>\n",
       "  <tbody>\n",
       "    <tr>\n",
       "      <th>0</th>\n",
       "      <td>Sloppy Joe Shirred Eggs With Spinach</td>\n",
       "      <td>sloppy-joe-shirred-eggs-with-spinach-vivian-ho...</td>\n",
       "      <td>['1 medium carrot, top removed and cut into ab...</td>\n",
       "      <td>Preheat your oven to 400°F. Combine the carrot...</td>\n",
       "    </tr>\n",
       "    <tr>\n",
       "      <th>1</th>\n",
       "      <td>Tamale Pie with Fresh Tomato and Corn</td>\n",
       "      <td>tamale-pie-with-fresh-tomato-and-corn</td>\n",
       "      <td>['1/2 pound fresh chorizo, casings removed (ab...</td>\n",
       "      <td>Preheat oven to 450°F. Heat an 8\" cast-iron sk...</td>\n",
       "    </tr>\n",
       "    <tr>\n",
       "      <th>2</th>\n",
       "      <td>Grilled Watermelon Salad With Lime Mango Dress...</td>\n",
       "      <td>grilled-watermelon-salad-with-lime-mango-dress...</td>\n",
       "      <td>['½ cup coarsely chopped ripe mango', '¼ cup f...</td>\n",
       "      <td>Put all of the ingredients except the oil in a...</td>\n",
       "    </tr>\n",
       "    <tr>\n",
       "      <th>3</th>\n",
       "      <td>Braised Chicken Legs With Grapes and Fennel</td>\n",
       "      <td>braised-chicken-legs-with-grapes-and-fennel</td>\n",
       "      <td>['4 chicken legs (thigh and drumstick; about 3...</td>\n",
       "      <td>Place a rack in middle of oven; preheat to 375...</td>\n",
       "    </tr>\n",
       "    <tr>\n",
       "      <th>4</th>\n",
       "      <td>Shrimp Creole</td>\n",
       "      <td>shrimp-creole-14653</td>\n",
       "      <td>['3 garlic cloves, minced', '2 large onions, c...</td>\n",
       "      <td>In a large heavy kettle cook garlic, onions, c...</td>\n",
       "    </tr>\n",
       "    <tr>\n",
       "      <th>5</th>\n",
       "      <td>Mississippi Corn Pudding</td>\n",
       "      <td>mississippi-corn-pudding</td>\n",
       "      <td>['5 tablespoons unsalted butter, melted and co...</td>\n",
       "      <td>Set a rack in the lower third of the oven. Pre...</td>\n",
       "    </tr>\n",
       "    <tr>\n",
       "      <th>6</th>\n",
       "      <td>Butternut Squash and Apple Soup</td>\n",
       "      <td>butternut-squash-apple-soup-365210</td>\n",
       "      <td>['6 slices bacon, cut crosswise into ½-inch pi...</td>\n",
       "      <td>Cook bacon in a 6-quart heavy pot over medium ...</td>\n",
       "    </tr>\n",
       "    <tr>\n",
       "      <th>7</th>\n",
       "      <td>Peach Cobbler</td>\n",
       "      <td>peach-cobbler-hot-water</td>\n",
       "      <td>['10 large peaches (about 4½ pounds), unpeeled...</td>\n",
       "      <td>Preheat the oven to 350 degrees F.\\nPut the pe...</td>\n",
       "    </tr>\n",
       "    <tr>\n",
       "      <th>8</th>\n",
       "      <td>Jalapeño Pepper Jelly</td>\n",
       "      <td>jalapeno-pepper-jelly-bryant-terry</td>\n",
       "      <td>['½ cup coarsely chopped seeded jalapeños (abo...</td>\n",
       "      <td>Sterilize three ½-pint jars and their lids or ...</td>\n",
       "    </tr>\n",
       "    <tr>\n",
       "      <th>9</th>\n",
       "      <td>Frogmore Stew</td>\n",
       "      <td>frogmore-stew</td>\n",
       "      <td>['12 to 14 cups water, fish stock, or seafood ...</td>\n",
       "      <td>In a large stockpot, combine 12 cups of the wa...</td>\n",
       "    </tr>\n",
       "  </tbody>\n",
       "</table>\n",
       "</div>"
      ],
      "text/plain": [
       "                                               title  \\\n",
       "0               Sloppy Joe Shirred Eggs With Spinach   \n",
       "1              Tamale Pie with Fresh Tomato and Corn   \n",
       "2  Grilled Watermelon Salad With Lime Mango Dress...   \n",
       "3        Braised Chicken Legs With Grapes and Fennel   \n",
       "4                                      Shrimp Creole   \n",
       "5                           Mississippi Corn Pudding   \n",
       "6                    Butternut Squash and Apple Soup   \n",
       "7                                      Peach Cobbler   \n",
       "8                              Jalapeño Pepper Jelly   \n",
       "9                                      Frogmore Stew   \n",
       "\n",
       "                                               image  \\\n",
       "0  sloppy-joe-shirred-eggs-with-spinach-vivian-ho...   \n",
       "1              tamale-pie-with-fresh-tomato-and-corn   \n",
       "2  grilled-watermelon-salad-with-lime-mango-dress...   \n",
       "3        braised-chicken-legs-with-grapes-and-fennel   \n",
       "4                                shrimp-creole-14653   \n",
       "5                           mississippi-corn-pudding   \n",
       "6                 butternut-squash-apple-soup-365210   \n",
       "7                            peach-cobbler-hot-water   \n",
       "8                 jalapeno-pepper-jelly-bryant-terry   \n",
       "9                                      frogmore-stew   \n",
       "\n",
       "                                         ingredients  \\\n",
       "0  ['1 medium carrot, top removed and cut into ab...   \n",
       "1  ['1/2 pound fresh chorizo, casings removed (ab...   \n",
       "2  ['½ cup coarsely chopped ripe mango', '¼ cup f...   \n",
       "3  ['4 chicken legs (thigh and drumstick; about 3...   \n",
       "4  ['3 garlic cloves, minced', '2 large onions, c...   \n",
       "5  ['5 tablespoons unsalted butter, melted and co...   \n",
       "6  ['6 slices bacon, cut crosswise into ½-inch pi...   \n",
       "7  ['10 large peaches (about 4½ pounds), unpeeled...   \n",
       "8  ['½ cup coarsely chopped seeded jalapeños (abo...   \n",
       "9  ['12 to 14 cups water, fish stock, or seafood ...   \n",
       "\n",
       "                                        instructions  \n",
       "0  Preheat your oven to 400°F. Combine the carrot...  \n",
       "1  Preheat oven to 450°F. Heat an 8\" cast-iron sk...  \n",
       "2  Put all of the ingredients except the oil in a...  \n",
       "3  Place a rack in middle of oven; preheat to 375...  \n",
       "4  In a large heavy kettle cook garlic, onions, c...  \n",
       "5  Set a rack in the lower third of the oven. Pre...  \n",
       "6  Cook bacon in a 6-quart heavy pot over medium ...  \n",
       "7  Preheat the oven to 350 degrees F.\\nPut the pe...  \n",
       "8  Sterilize three ½-pint jars and their lids or ...  \n",
       "9  In a large stockpot, combine 12 cups of the wa...  "
      ]
     },
     "execution_count": 95,
     "metadata": {},
     "output_type": "execute_result"
    }
   ],
   "source": [
    "giv_rec('Italian Sausage and Bread Stuffing')"
   ]
  },
  {
   "cell_type": "code",
   "execution_count": 86,
   "id": "627fdc4a",
   "metadata": {
    "tags": []
   },
   "outputs": [],
   "source": [
    "import pickle"
   ]
  },
  {
   "cell_type": "code",
   "execution_count": 96,
   "id": "362c9f0b-d2bf-4323-afa8-5b1420e321fd",
   "metadata": {
    "tags": []
   },
   "outputs": [
    {
     "ename": "NameError",
     "evalue": "name 'sig_scores' is not defined",
     "output_type": "error",
     "traceback": [
      "\u001b[1;31m---------------------------------------------------------------------------\u001b[0m",
      "\u001b[1;31mNameError\u001b[0m                                 Traceback (most recent call last)",
      "Cell \u001b[1;32mIn[96], line 2\u001b[0m\n\u001b[0;32m      1\u001b[0m pickle\u001b[39m.\u001b[39mdump(foods,\u001b[39mopen\u001b[39m(\u001b[39m'\u001b[39m\u001b[39mlist.pkl\u001b[39m\u001b[39m'\u001b[39m,\u001b[39m'\u001b[39m\u001b[39mwb\u001b[39m\u001b[39m'\u001b[39m))\n\u001b[1;32m----> 2\u001b[0m pickle\u001b[39m.\u001b[39mdump(sig_scores, \u001b[39mopen\u001b[39m(\u001b[39m'\u001b[39m\u001b[39msig_scores.pkl\u001b[39m\u001b[39m'\u001b[39m, \u001b[39m'\u001b[39m\u001b[39mwb\u001b[39m\u001b[39m'\u001b[39m))\n",
      "\u001b[1;31mNameError\u001b[0m: name 'sig_scores' is not defined"
     ]
    }
   ],
   "source": [
    "pickle.dump(foods,open('list.pkl','wb'))\n",
    "# pickle.dump(sig_scores, open('sig_scores.pkl', 'wb'))"
   ]
  },
  {
   "cell_type": "code",
   "execution_count": null,
   "id": "fd5e47a6-9ab8-4d4c-9cac-897e09d0794f",
   "metadata": {},
   "outputs": [],
   "source": []
  },
  {
   "cell_type": "code",
   "execution_count": null,
   "id": "d41e8926-b4ea-4c63-bbf2-c62556d79902",
   "metadata": {},
   "outputs": [],
   "source": []
  }
 ],
 "metadata": {
  "kernelspec": {
   "display_name": "Python 3 (ipykernel)",
   "language": "python",
   "name": "python3"
  },
  "language_info": {
   "codemirror_mode": {
    "name": "ipython",
    "version": 3
   },
   "file_extension": ".py",
   "mimetype": "text/x-python",
   "name": "python",
   "nbconvert_exporter": "python",
   "pygments_lexer": "ipython3",
   "version": "3.11.0"
  }
 },
 "nbformat": 4,
 "nbformat_minor": 5
}
